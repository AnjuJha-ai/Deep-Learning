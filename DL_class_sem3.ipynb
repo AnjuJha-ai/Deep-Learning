{
 "cells": [
  {
   "cell_type": "code",
   "execution_count": 1,
   "id": "3b2c1755",
   "metadata": {},
   "outputs": [],
   "source": [
    "import numpy as np"
   ]
  },
  {
   "cell_type": "code",
   "execution_count": 2,
   "id": "ed8370bf",
   "metadata": {},
   "outputs": [
    {
     "name": "stdout",
     "output_type": "stream",
     "text": [
      "gradient at layer 10:2.384185791015625e-07\n"
     ]
    }
   ],
   "source": [
    "def sigmoid(x):\n",
    "    return 1/(1+np.exp(-x))\n",
    "\n",
    "def sigmoid_derivative(x):\n",
    "    return sigmoid(x)*(1-sigmoid(x))\n",
    "\n",
    "#simulating a 10-layer network\n",
    "num_layers=10\n",
    "initial_gradient=0.25\n",
    "\n",
    "gradient=initial_gradient\n",
    "for layer in range(num_layers):\n",
    "    gradient*=sigmoid_derivative(0)\n",
    "    \n",
    "#Assuming inputs are around 0 for simplicity\n",
    "print(f'gradient at layer {layer+1}:{gradient}')"
   ]
  },
  {
   "cell_type": "code",
   "execution_count": 3,
   "id": "fc6185b7",
   "metadata": {},
   "outputs": [],
   "source": [
    "def sigmoid(x):\n",
    "    \"\"\"Sigmoid activation function.\"\"\"\n",
    "    return 1/(1+np.exp(-x))\n",
    "\n",
    "def relu(x):\n",
    "    \"\"\"ReLU activation function.\"\"\"\n",
    "    return np.maximum(0,x)\n",
    "\n",
    "def leaky_relu(x,alpha=0.01):\n",
    "    \"\"\"Leaky Relu activation function\"\"\"\n",
    "    return np.maximum(alpha*x,x)\n",
    "\n",
    "def tanh(x):\n",
    "    \"\"\"Tanh activation function\"\"\"\n",
    "    return np.tanh(x)\n",
    "\n",
    "def softmax(x):\n",
    "    \"\"\"Softmax activation function\"\"\"\n",
    "    exp_x=np.exp(x-np.max(x,axis=-1, keepdims=True))\n",
    "    return exp_x/np.sum(exp_x,axis=-1,keepdims=True)\n"
   ]
  },
  {
   "cell_type": "code",
   "execution_count": 4,
   "id": "67d32a84",
   "metadata": {},
   "outputs": [
    {
     "name": "stdout",
     "output_type": "stream",
     "text": [
      "[0.26894142 0.5        0.73105858 0.88079708]\n",
      "[0 0 1 2]\n"
     ]
    }
   ],
   "source": [
    "#sample input data\n",
    "x=np.array([-1,0,1,2])\n",
    "\n",
    "#apply sigmoid activation\n",
    "sigmoid_output=sigmoid(x)\n",
    "print(sigmoid_output)\n",
    "\n",
    "#apply ReLU activation\n",
    "relu_output=relu(x)\n",
    "print(relu_output)\n",
    "\n",
    "#and so on for other activation functions"
   ]
  },
  {
   "cell_type": "code",
   "execution_count": 5,
   "id": "8a80cf5f",
   "metadata": {},
   "outputs": [
    {
     "data": {
      "image/png": "[encoded data removed]",
      "text/plain": [
       "<Figure size 640x480 with 1 Axes>"
      ]
     },
     "metadata": {},
     "output_type": "display_data"
    }
   ],
   "source": [
    "import matplotlib.pyplot as plt\n",
    "\n",
    "x=np.linspace(-4,4,300)\n",
    "plt.plot(x,sigmoid(x),label='sigmoid')\n",
    "plt.plot(x,relu(x),label='ReLU')\n",
    "plt.plot(x,leaky_relu(x),label='Leaky ReLU')\n",
    "plt.plot(x,tanh(x),label='Tanh')\n",
    "plt.legend()\n",
    "plt.grid(True)\n",
    "plt.show()"
   ]
  },
  {
   "cell_type": "code",
   "execution_count": 6,
   "id": "300f0197",
   "metadata": {},
   "outputs": [
    {
     "ename": "NameError",
     "evalue": "name 'X' is not defined",
     "output_type": "error",
     "traceback": [
      "\u001b[1;31m---------------------------------------------------------------------------\u001b[0m",
      "\u001b[1;31mNameError\u001b[0m                                 Traceback (most recent call last)",
      "Cell \u001b[1;32mIn[6], line 13\u001b[0m\n\u001b[0;32m     10\u001b[0m     \u001b[38;5;28;01mreturn\u001b[39;00m A2\n\u001b[0;32m     12\u001b[0m \u001b[38;5;66;03m# Usage:\u001b[39;00m\n\u001b[1;32m---> 13\u001b[0m A2, _ \u001b[38;5;241m=\u001b[39m forward_propagation(X, W1, W2, b1, b2)\n",
      "\u001b[1;31mNameError\u001b[0m: name 'X' is not defined"
     ]
    }
   ],
   "source": [
    "def forward_propagation(X, W1, W2, b1, b2):\n",
    "    # Calculate hidden layer activations\n",
    "    Z1 = np.dot(X, W1) + b1\n",
    "    A1 = sigmoid(Z1)\n",
    "    \n",
    "    # Calculate output layer activations\n",
    "    Z2 = np.dot(A1, W2) + b2\n",
    "    A2 = sigmoid(Z2)\n",
    "    \n",
    "    return A2\n",
    "\n",
    "# Usage:\n",
    "A2, _ = forward_propagation(X, W1, W2, b1, b2)\n"
   ]
  },
  {
   "cell_type": "code",
   "execution_count": 7,
   "id": "6c1c6dc2",
   "metadata": {},
   "outputs": [
    {
     "ename": "NameError",
     "evalue": "name 'X' is not defined",
     "output_type": "error",
     "traceback": [
      "\u001b[1;31m---------------------------------------------------------------------------\u001b[0m",
      "\u001b[1;31mNameError\u001b[0m                                 Traceback (most recent call last)",
      "Cell \u001b[1;32mIn[7], line 19\u001b[0m\n\u001b[0;32m     16\u001b[0m     \u001b[38;5;28;01mreturn\u001b[39;00m dW1, dW2, db1, db2\n\u001b[0;32m     18\u001b[0m \u001b[38;5;66;03m# Usage:\u001b[39;00m\n\u001b[1;32m---> 19\u001b[0m dW1, dW2, db1, db2 \u001b[38;5;241m=\u001b[39m backward_propagation(X, Y, A2, W1, W2, b1, b2)\n",
      "\u001b[1;31mNameError\u001b[0m: name 'X' is not defined"
     ]
    }
   ],
   "source": [
    "def backward_propagation(X, Y, A2, W1, W2, b1, b2):\n",
    "    # Compute the error at the output layer\n",
    "    dZ2 = A2 - Y\n",
    "    \n",
    "    # Compute gradients for weights and biases\n",
    "    dW2 = np.dot(A1.T, dZ2)\n",
    "    db2 = np.sum(dZ2, axis=0)\n",
    "    \n",
    "    # Backpropagate the error to the hidden layer\n",
    "    dZ1 = np.dot(dZ2, W2.T) * sigmoid_derivative(A1)\n",
    "    \n",
    "    # Compute gradients for weights and biases\n",
    "    dW1 = np.dot(X.T, dZ1)\n",
    "    db1 = np.sum(dZ1, axis=0)\n",
    "    \n",
    "    return dW1, dW2, db1, db2\n",
    "\n",
    "# Usage:\n",
    "dW1, dW2, db1, db2 = backward_propagation(X, Y, A2, W1, W2, b1, b2)\n"
   ]
  },
  {
   "cell_type": "code",
   "execution_count": 8,
   "id": "a96f9c88",
   "metadata": {},
   "outputs": [
    {
     "ename": "IndexError",
     "evalue": "positional indexers are out-of-bounds",
     "output_type": "error",
     "traceback": [
      "\u001b[1;31m---------------------------------------------------------------------------\u001b[0m",
      "\u001b[1;31mIndexError\u001b[0m                                Traceback (most recent call last)",
      "Cell \u001b[1;32mIn[8], line 32\u001b[0m\n\u001b[0;32m     28\u001b[0m k \u001b[38;5;241m=\u001b[39m d1[((d1[\u001b[38;5;124m\"\u001b[39m\u001b[38;5;124mYear\u001b[39m\u001b[38;5;124m\"\u001b[39m]\u001b[38;5;241m!=\u001b[39m\u001b[38;5;241m2023\u001b[39m))]\u001b[38;5;241m.\u001b[39mindex\n\u001b[0;32m     29\u001b[0m d3\u001b[38;5;241m=\u001b[39md1\u001b[38;5;241m.\u001b[39mdrop(k)\n\u001b[1;32m---> 32\u001b[0m X_train\u001b[38;5;241m=\u001b[39md2\u001b[38;5;241m.\u001b[39miloc[:,[\u001b[38;5;241m3\u001b[39m,\u001b[38;5;241m11\u001b[39m,\u001b[38;5;241m15\u001b[39m]]\n\u001b[0;32m     33\u001b[0m \u001b[38;5;66;03m#Scaling numeric features using sklearn StandardScalar\u001b[39;00m\n\u001b[0;32m     34\u001b[0m X_train\n",
      "File \u001b[1;32m~\\anaconda3\\Lib\\site-packages\\pandas\\core\\indexing.py:1067\u001b[0m, in \u001b[0;36m_LocationIndexer.__getitem__\u001b[1;34m(self, key)\u001b[0m\n\u001b[0;32m   1065\u001b[0m     \u001b[38;5;28;01mif\u001b[39;00m \u001b[38;5;28mself\u001b[39m\u001b[38;5;241m.\u001b[39m_is_scalar_access(key):\n\u001b[0;32m   1066\u001b[0m         \u001b[38;5;28;01mreturn\u001b[39;00m \u001b[38;5;28mself\u001b[39m\u001b[38;5;241m.\u001b[39mobj\u001b[38;5;241m.\u001b[39m_get_value(\u001b[38;5;241m*\u001b[39mkey, takeable\u001b[38;5;241m=\u001b[39m\u001b[38;5;28mself\u001b[39m\u001b[38;5;241m.\u001b[39m_takeable)\n\u001b[1;32m-> 1067\u001b[0m     \u001b[38;5;28;01mreturn\u001b[39;00m \u001b[38;5;28mself\u001b[39m\u001b[38;5;241m.\u001b[39m_getitem_tuple(key)\n\u001b[0;32m   1068\u001b[0m \u001b[38;5;28;01melse\u001b[39;00m:\n\u001b[0;32m   1069\u001b[0m     \u001b[38;5;66;03m# we by definition only have the 0th axis\u001b[39;00m\n\u001b[0;32m   1070\u001b[0m     axis \u001b[38;5;241m=\u001b[39m \u001b[38;5;28mself\u001b[39m\u001b[38;5;241m.\u001b[39maxis \u001b[38;5;129;01mor\u001b[39;00m \u001b[38;5;241m0\u001b[39m\n",
      "File \u001b[1;32m~\\anaconda3\\Lib\\site-packages\\pandas\\core\\indexing.py:1563\u001b[0m, in \u001b[0;36m_iLocIndexer._getitem_tuple\u001b[1;34m(self, tup)\u001b[0m\n\u001b[0;32m   1561\u001b[0m \u001b[38;5;28;01mdef\u001b[39;00m \u001b[38;5;21m_getitem_tuple\u001b[39m(\u001b[38;5;28mself\u001b[39m, tup: \u001b[38;5;28mtuple\u001b[39m):\n\u001b[1;32m-> 1563\u001b[0m     tup \u001b[38;5;241m=\u001b[39m \u001b[38;5;28mself\u001b[39m\u001b[38;5;241m.\u001b[39m_validate_tuple_indexer(tup)\n\u001b[0;32m   1564\u001b[0m     \u001b[38;5;28;01mwith\u001b[39;00m suppress(IndexingError):\n\u001b[0;32m   1565\u001b[0m         \u001b[38;5;28;01mreturn\u001b[39;00m \u001b[38;5;28mself\u001b[39m\u001b[38;5;241m.\u001b[39m_getitem_lowerdim(tup)\n",
      "File \u001b[1;32m~\\anaconda3\\Lib\\site-packages\\pandas\\core\\indexing.py:873\u001b[0m, in \u001b[0;36m_LocationIndexer._validate_tuple_indexer\u001b[1;34m(self, key)\u001b[0m\n\u001b[0;32m    871\u001b[0m \u001b[38;5;28;01mfor\u001b[39;00m i, k \u001b[38;5;129;01min\u001b[39;00m \u001b[38;5;28menumerate\u001b[39m(key):\n\u001b[0;32m    872\u001b[0m     \u001b[38;5;28;01mtry\u001b[39;00m:\n\u001b[1;32m--> 873\u001b[0m         \u001b[38;5;28mself\u001b[39m\u001b[38;5;241m.\u001b[39m_validate_key(k, i)\n\u001b[0;32m    874\u001b[0m     \u001b[38;5;28;01mexcept\u001b[39;00m \u001b[38;5;167;01mValueError\u001b[39;00m \u001b[38;5;28;01mas\u001b[39;00m err:\n\u001b[0;32m    875\u001b[0m         \u001b[38;5;28;01mraise\u001b[39;00m \u001b[38;5;167;01mValueError\u001b[39;00m(\n\u001b[0;32m    876\u001b[0m             \u001b[38;5;124m\"\u001b[39m\u001b[38;5;124mLocation based indexing can only have \u001b[39m\u001b[38;5;124m\"\u001b[39m\n\u001b[0;32m    877\u001b[0m             \u001b[38;5;124mf\u001b[39m\u001b[38;5;124m\"\u001b[39m\u001b[38;5;124m[\u001b[39m\u001b[38;5;132;01m{\u001b[39;00m\u001b[38;5;28mself\u001b[39m\u001b[38;5;241m.\u001b[39m_valid_types\u001b[38;5;132;01m}\u001b[39;00m\u001b[38;5;124m] types\u001b[39m\u001b[38;5;124m\"\u001b[39m\n\u001b[0;32m    878\u001b[0m         ) \u001b[38;5;28;01mfrom\u001b[39;00m \u001b[38;5;21;01merr\u001b[39;00m\n",
      "File \u001b[1;32m~\\anaconda3\\Lib\\site-packages\\pandas\\core\\indexing.py:1481\u001b[0m, in \u001b[0;36m_iLocIndexer._validate_key\u001b[1;34m(self, key, axis)\u001b[0m\n\u001b[0;32m   1479\u001b[0m     \u001b[38;5;66;03m# check that the key does not exceed the maximum size of the index\u001b[39;00m\n\u001b[0;32m   1480\u001b[0m     \u001b[38;5;28;01mif\u001b[39;00m \u001b[38;5;28mlen\u001b[39m(arr) \u001b[38;5;129;01mand\u001b[39;00m (arr\u001b[38;5;241m.\u001b[39mmax() \u001b[38;5;241m>\u001b[39m\u001b[38;5;241m=\u001b[39m len_axis \u001b[38;5;129;01mor\u001b[39;00m arr\u001b[38;5;241m.\u001b[39mmin() \u001b[38;5;241m<\u001b[39m \u001b[38;5;241m-\u001b[39mlen_axis):\n\u001b[1;32m-> 1481\u001b[0m         \u001b[38;5;28;01mraise\u001b[39;00m \u001b[38;5;167;01mIndexError\u001b[39;00m(\u001b[38;5;124m\"\u001b[39m\u001b[38;5;124mpositional indexers are out-of-bounds\u001b[39m\u001b[38;5;124m\"\u001b[39m)\n\u001b[0;32m   1482\u001b[0m \u001b[38;5;28;01melse\u001b[39;00m:\n\u001b[0;32m   1483\u001b[0m     \u001b[38;5;28;01mraise\u001b[39;00m \u001b[38;5;167;01mValueError\u001b[39;00m(\u001b[38;5;124mf\u001b[39m\u001b[38;5;124m\"\u001b[39m\u001b[38;5;124mCan only index by location with a [\u001b[39m\u001b[38;5;132;01m{\u001b[39;00m\u001b[38;5;28mself\u001b[39m\u001b[38;5;241m.\u001b[39m_valid_types\u001b[38;5;132;01m}\u001b[39;00m\u001b[38;5;124m]\u001b[39m\u001b[38;5;124m\"\u001b[39m)\n",
      "\u001b[1;31mIndexError\u001b[0m: positional indexers are out-of-bounds"
     ]
    }
   ],
   "source": [
    "# Update 1: Changes length of variable i and j as expontential activation function throws an error @input and hidden\n",
    "# Update 1: Changes length of variable i = 3 and j = 14 to check which combination throws error\n",
    "\n",
    "import pandas as pd\n",
    "import numpy as np\n",
    "import tensorflow as tf\n",
    "from sklearn.metrics import mean_squared_error\n",
    "import keras\n",
    "from keras.models import Sequential\n",
    "from keras.layers import Dense\n",
    "from keras.layers import LeakyReLU,PReLU,ELU\n",
    "from keras.layers import Dropout\n",
    "from sklearn import metrics\n",
    "import os\n",
    "def write_to_file(data, fileName):\n",
    "    file = os.path.join(r\"E:\\fresh\", practice)\n",
    "    with open(file, 'a') as f:\n",
    "        f.write(str(data)+\"\\n\")\n",
    "        \n",
    "d=pd.read_excel(r\"E:\\fresh\\yearly data.xlsx\",sheet_name='Sheet2')\n",
    "d['x']=d['x']*1000\n",
    "i = d[((d[\"Month\"]==7))|((d[\"Month\"]==8))].index\n",
    "d1=d.drop(i)\n",
    "\n",
    "j = d1[((d1[\"Year\"]==2023))].index\n",
    "d2=d1.drop(j)\n",
    "\n",
    "k = d1[((d1[\"Year\"]!=2023))].index\n",
    "d3=d1.drop(k)\n",
    "\n",
    "\n",
    "X_train=d2.iloc[:,[3,11,15]]\n",
    "#Scaling numeric features using sklearn StandardScalar\n",
    "X_train\n",
    "\n",
    "X_test=d3.iloc[:,[3,11,15]]\n",
    "X_test\n",
    "\n",
    "Y_train=d2.iloc[:,[4]]\n",
    "Y_train\n",
    "\n",
    "Y_test=d3.iloc[:,[4]]\n",
    "Y_test\n",
    "\n",
    "act=[]\n",
    "act=['relu','sigmoid','softmax','softplus','softsign','tanh','selu','elu','leaky_relu','relu6','silu','gelu','hard_sigmoid','linear','mish','log_softmax','exponential']\n",
    "count=0\n",
    "\n",
    "l=1088\n",
    "#NN_model = Sequential()\n",
    "filename = 'data{}.txt'.format(l)\n",
    "for i in range(4,len(act)-1,1):\n",
    "    for j in range(len(act)-1):\n",
    "        for k in range(len(act)):\n",
    "            NN_model = Sequential()\n",
    "            NN_model.add(Dense(128, kernel_initializer='normal',input_dim = X_train.shape[1], activation=act[i]))\n",
    "            NN_model.add(Dense(256, kernel_initializer='normal',activation=act[j]))\n",
    "            NN_model.add(Dense(1, kernel_initializer='normal',activation=act[k]))\n",
    "            NN_model.compile(loss='mean_absolute_error', optimizer='adam', metrics=['mean_absolute_error'])\n",
    "            model_history=NN_model.fit(X_train, Y_train, batch_size = 10, epochs = 100,verbose=0)\n",
    "            pred=NN_model.predict(X_test)\n",
    "            p=pd.DataFrame(pred)\n",
    "    \n",
    "            rms=(np.sqrt(metrics.mean_squared_error(Y_test, p)))\n",
    "            mae=metrics.mean_absolute_error(Y_test, p)\n",
    "            mse=metrics.mean_squared_error(Y_test, p)\n",
    "            c=act[i]\n",
    "            c1=act[j]\n",
    "            c2=act[k]\n",
    "            c3=rms\n",
    "            c4=mae\n",
    "            c5=mse\n",
    "            output = [c,c1,c2,c3,c4,c5]\n",
    "            write_to_file(output, filename)\n",
    "            l=l+1\n",
    "\n",
    "            if l != 0 and l % 272 == 0:\n",
    "                filename = 'data{}.txt'.format(l)"
   ]
  },
  {
   "cell_type": "code",
   "execution_count": 9,
   "id": "9c9f5d8c",
   "metadata": {},
   "outputs": [],
   "source": [
    "# pooling\n",
    "import numpy as np"
   ]
  },
  {
   "cell_type": "code",
   "execution_count": 10,
   "id": "e5430e55",
   "metadata": {},
   "outputs": [
    {
     "data": {
      "text/plain": [
       "array([[ 1,  2,  3,  4],\n",
       "       [ 5,  6,  7,  8],\n",
       "       [ 9, 10, 11, 12],\n",
       "       [13, 14, 15, 16]])"
      ]
     },
     "execution_count": 10,
     "metadata": {},
     "output_type": "execute_result"
    }
   ],
   "source": [
    "a=np.array([[1,2,3,4],[5,6,7,8],[9,10,11,12],[13,14,15,16]])\n",
    "a"
   ]
  },
  {
   "cell_type": "code",
   "execution_count": 94,
   "id": "d42d18ee",
   "metadata": {},
   "outputs": [],
   "source": [
    "a[0][:2]\n",
    "c=[]\n",
    "for i in a:\n",
    "    c.append(a[0][:2])\n",
    "    \n"
   ]
  },
  {
   "cell_type": "code",
   "execution_count": 3,
   "id": "93958a8c",
   "metadata": {},
   "outputs": [
    {
     "ename": "SyntaxError",
     "evalue": "invalid syntax (1176409831.py, line 2)",
     "output_type": "error",
     "traceback": [
      "\u001b[1;36m  Cell \u001b[1;32mIn[3], line 2\u001b[1;36m\u001b[0m\n\u001b[1;33m    f=[:2]\u001b[0m\n\u001b[1;37m       ^\u001b[0m\n\u001b[1;31mSyntaxError\u001b[0m\u001b[1;31m:\u001b[0m invalid syntax\n"
     ]
    }
   ],
   "source": [
    "t=[]\n",
    "f=[:2]\n",
    "s=[2:3]\n",
    "for i in range(4):\n",
    "    if 0<i\n",
    "    r=max(a[i][:2])\n",
    "    t.append(r)\n",
    "    i=i+2\n",
    "print(t)\n",
    "print(max(t))"
   ]
  },
  {
   "cell_type": "code",
   "execution_count": 96,
   "id": "0db54049",
   "metadata": {},
   "outputs": [
    {
     "data": {
      "text/plain": [
       "array([[5, 6],\n",
       "       [8, 9]])"
      ]
     },
     "execution_count": 96,
     "metadata": {},
     "output_type": "execute_result"
    }
   ],
   "source": [
    "def anju_special_pooling(a):\n",
    "    pool_size = 2\n",
    "    t = []\n",
    "\n",
    "    for i in range(0, a.shape[0], pool_size):\n",
    "        for j in range(0, a.shape[1], pool_size):\n",
    "            pool = a[i:i+pool_size, j:j+pool_size]\n",
    "            r = np.max(pool)\n",
    "            t.append(r)\n",
    "    p=np.array(t)\n",
    "    y=p.reshape(2,2)\n",
    "    return y\n",
    "anju_special_pooling(a)"
   ]
  },
  {
   "cell_type": "code",
   "execution_count": 97,
   "id": "0e7aedfe",
   "metadata": {},
   "outputs": [
    {
     "name": "stdout",
     "output_type": "stream",
     "text": [
      "[[1]]\n"
     ]
    }
   ],
   "source": [
    "def anju_special_striding(a,s):\n",
    "    u=a[::s+1,::s+1]\n",
    "    print(u)\n",
    "\n",
    "anju_special_striding(a,2)"
   ]
  },
  {
   "cell_type": "code",
   "execution_count": 98,
   "id": "3631e2a2",
   "metadata": {},
   "outputs": [],
   "source": [
    "s=np.array([[1,2],[4,5]])"
   ]
  },
  {
   "cell_type": "code",
   "execution_count": 99,
   "id": "ba3e219b",
   "metadata": {},
   "outputs": [
    {
     "name": "stdout",
     "output_type": "stream",
     "text": [
      "[[0. 0. 0. 0. 0.]\n",
      " [0. 0. 0. 0. 0.]\n",
      " [0. 0. 0. 0. 0.]\n",
      " [0. 0. 0. 0. 0.]\n",
      " [0. 0. 0. 0. 0.]]\n"
     ]
    },
    {
     "ename": "ValueError",
     "evalue": "operands could not be broadcast together with shapes (3,3) (5,5) ",
     "output_type": "error",
     "traceback": [
      "\u001b[1;31m---------------------------------------------------------------------------\u001b[0m",
      "\u001b[1;31mValueError\u001b[0m                                Traceback (most recent call last)",
      "Cell \u001b[1;32mIn[99], line 9\u001b[0m\n\u001b[0;32m      5\u001b[0m     \u001b[38;5;28mprint\u001b[39m(zero)\n\u001b[0;32m      6\u001b[0m     \u001b[38;5;28mprint\u001b[39m(np\u001b[38;5;241m.\u001b[39madd(a,zero))\n\u001b[1;32m----> 9\u001b[0m anjus_special_padding(a)\n",
      "Cell \u001b[1;32mIn[99], line 6\u001b[0m, in \u001b[0;36manjus_special_padding\u001b[1;34m(a)\u001b[0m\n\u001b[0;32m      4\u001b[0m zero\u001b[38;5;241m=\u001b[39mnp\u001b[38;5;241m.\u001b[39mzeros(padded)\n\u001b[0;32m      5\u001b[0m \u001b[38;5;28mprint\u001b[39m(zero)\n\u001b[1;32m----> 6\u001b[0m \u001b[38;5;28mprint\u001b[39m(np\u001b[38;5;241m.\u001b[39madd(a,zero))\n",
      "\u001b[1;31mValueError\u001b[0m: operands could not be broadcast together with shapes (3,3) (5,5) "
     ]
    }
   ],
   "source": [
    "def anjus_special_padding(a):\n",
    "    rows, cols = a.shape\n",
    "    padded=(rows+2,cols+2)\n",
    "    zero=np.zeros(padded)\n",
    "    print(zero)\n",
    "    print(np.add(a,zero))\n",
    "    \n",
    "    \n",
    "anjus_special_padding(a)"
   ]
  },
  {
   "cell_type": "code",
   "execution_count": 100,
   "id": "ff7c8c5f",
   "metadata": {},
   "outputs": [
    {
     "data": {
      "text/plain": [
       "4"
      ]
     },
     "execution_count": 100,
     "metadata": {},
     "output_type": "execute_result"
    }
   ],
   "source": [
    "a.shape[0]+1"
   ]
  },
  {
   "cell_type": "code",
   "execution_count": null,
   "id": "04ec9610",
   "metadata": {},
   "outputs": [],
   "source": []
  }
 ],
 "metadata": {
  "kernelspec": {
   "display_name": "Python 3 (ipykernel)",
   "language": "python",
   "name": "python3"
  },
  "language_info": {
   "codemirror_mode": {
    "name": "ipython",
    "version": 3
   },
   "file_extension": ".py",
   "mimetype": "text/x-python",
   "name": "python",
   "nbconvert_exporter": "python",
   "pygments_lexer": "ipython3",
   "version": "3.11.4"
  }
 },
 "nbformat": 4,
 "nbformat_minor": 5
}
